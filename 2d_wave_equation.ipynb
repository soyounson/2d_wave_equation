{
 "cells": [
  {
   "cell_type": "code",
   "execution_count": 35,
   "metadata": {},
   "outputs": [],
   "source": [
    "#|****************************************************************|#\n",
    "#|********************* 2D wave equation *************************|#\n",
    "#|****************************************************************|# \n",
    "#|                                                                |#\n",
    "#|     shortcut to run a code : ctl + enter                       |#\n",
    "#|                                                                |#\n",
    "#|----------------------------------------------------------------|#\n",
    "#|     written by: S.Son (soyoun.son@gmail.com)                   |# \n",
    "#|                 https://github.com/soyounson                   |# \n",
    "#|                                                                |# \n",
    "#|     original written date :  Nov/23/2020                       |# \n",
    "#|                                                                |# \n",
    "#|****************************************************************|#"
   ]
  },
  {
   "cell_type": "code",
   "execution_count": 36,
   "metadata": {},
   "outputs": [],
   "source": [
    "from mpl_toolkits.mplot3d import Axes3D\n",
    "from matplotlib import cm\n",
    "import matplotlib.pyplot as plt\n",
    "from matplotlib.patches import *\n",
    "import numpy as np\n",
    "from pylab import *\n",
    "from numpy import ma\n",
    "%matplotlib inline"
   ]
  },
  {
   "cell_type": "code",
   "execution_count": 37,
   "metadata": {},
   "outputs": [
    {
     "ename": "SyntaxError",
     "evalue": "invalid syntax (<ipython-input-37-77e618902e4d>, line 4)",
     "output_type": "error",
     "traceback": [
      "\u001b[0;36m  File \u001b[0;32m\"<ipython-input-37-77e618902e4d>\"\u001b[0;36m, line \u001b[0;32m4\u001b[0m\n\u001b[0;31m    mkdir images\u001b[0m\n\u001b[0m               ^\u001b[0m\n\u001b[0;31mSyntaxError\u001b[0m\u001b[0;31m:\u001b[0m invalid syntax\n"
     ]
    }
   ],
   "source": [
    "#**********************\n",
    "#\\\\\\\\\\ Make folder to save images\n",
    "#**********************\n",
    "mkdir images"
   ]
  },
  {
   "cell_type": "code",
   "execution_count": 40,
   "metadata": {
    "scrolled": false
   },
   "outputs": [],
   "source": [
    "#**********************\n",
    "#\\\\\\\\\\ Domain\n",
    "#**********************\n",
    "# total # \n",
    "nx = 100  \n",
    "ny = 100  \n",
    "dx = 1000   \n",
    "dy = dx\n",
    "\n",
    "# physical size \n",
    "x = dx*np.linspace(0,nx-1,nx)\n",
    "y = dx*np.linspace(0,ny-1,ny)\n",
    "\n",
    "# initialize \n",
    "u = np.zeros([nx,ny])\n",
    "um = np.zeros([nx,ny])\n",
    "up = np.zeros([nx,ny])\n",
    "uxx = np.zeros([nx,ny])\n",
    "uyy = np.zeros([nx,ny])\n",
    "\n",
    "c0 = 4000\n",
    "c = c0*np.ones([nx,ny])\n",
    "\n",
    "# cfl condition, dx/cmax\n",
    "dt = 0.1 \n",
    "\n",
    "# Point source \n",
    "nx_s = 30 \n",
    "ny_s = 45\n",
    "t0 = 0\n",
    "\n",
    "max_steps = 500 \n",
    "\n",
    "# initialize source term\n",
    "fs = np.zeros([nx,ny])\n",
    "fsrc = np.zeros([max_steps])\n",
    "\n",
    "# source term (gaussian fn)\n",
    "gx = np.linspace(-30,30,61)\n",
    "sig = 5\n",
    "fsrc[np.int_(t0+gx)] = np.exp(-1*(gx**2)/(2*sig**2))\n",
    "\n",
    "fig = plt.figure()\n",
    "ax = fig.add_subplot(1, 1, 1)\n",
    "\n",
    "#**********************\n",
    "#\\\\\\\\\\ Solver \n",
    "#**********************\n",
    "for k in range(max_steps):\n",
    "    \n",
    "    fz = fs.copy()\n",
    "    fz[nx_s,ny_s] = fsrc[k]\n",
    "    \n",
    "    for i in range(1,nx-1):\n",
    "        for j in range(1,ny-1): \n",
    "            # discretization\n",
    "            uxx[i,j] = u[i-1,j] - 2*u[i,j] + u[i+1,j]   \n",
    "            uxx[i,j] = uxx[i,j]/(dx**2)\n",
    "            uyy[i,j] = u[i,j-1] - 2*u[i,j] + u[i,j+1]\n",
    "            uyy[i,j] = uyy[i,j]/(dy**2)\n",
    "            # calculate u\n",
    "            up = dt**2*((c**2)*(uxx+uyy)+fz)+2*u-um\n",
    "            \n",
    "    # update um = u(t-dt); up = u(t+dt)\n",
    "    um = u\n",
    "    u = up\n",
    "    \n",
    "    # save figures in the images folder\n",
    "    if k % 10 == 0:\n",
    "        im = ax.imshow(up)\n",
    "        fig.show()\n",
    "        fig.savefig('images/wave_' + str(k) + '.png',dpi=600)"
   ]
  },
  {
   "cell_type": "code",
   "execution_count": null,
   "metadata": {},
   "outputs": [],
   "source": []
  },
  {
   "cell_type": "code",
   "execution_count": null,
   "metadata": {},
   "outputs": [],
   "source": []
  }
 ],
 "metadata": {
  "kernelspec": {
   "display_name": "Python 3",
   "language": "python",
   "name": "python3"
  },
  "language_info": {
   "codemirror_mode": {
    "name": "ipython",
    "version": 3
   },
   "file_extension": ".py",
   "mimetype": "text/x-python",
   "name": "python",
   "nbconvert_exporter": "python",
   "pygments_lexer": "ipython3",
   "version": "3.7.6"
  }
 },
 "nbformat": 4,
 "nbformat_minor": 4
}
